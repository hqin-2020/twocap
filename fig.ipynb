{
 "cells": [
  {
   "cell_type": "code",
   "execution_count": 1,
   "metadata": {},
   "outputs": [
    {
     "data": {
      "text/html": [
       "<style>.container { width:100% !important; }</style>"
      ],
      "text/plain": [
       "<IPython.core.display.HTML object>"
      ]
     },
     "metadata": {},
     "output_type": "display_data"
    }
   ],
   "source": [
    "from PIL import Image\n",
    "from ipywidgets import interactive\n",
    "from IPython.display import display, HTML\n",
    "display(HTML(\"<style>.container { width:100% !important; }</style>\"))\n",
    "from ipywidgets import Box"
   ]
  },
  {
   "cell_type": "code",
   "execution_count": 8,
   "metadata": {},
   "outputs": [
    {
     "data": {
      "application/vnd.jupyter.widget-view+json": {
       "model_id": "fef01f1faf834d21b62d47727513a93b",
       "version_major": 2,
       "version_minor": 0
      },
      "text/plain": [
       "Box(children=(interactive(children=(Dropdown(description='rho', options=(0.8, 0.9, 1.00001, 1.1, 1.2, 1.3, 1.4…"
      ]
     },
     "metadata": {},
     "output_type": "display_data"
    }
   ],
   "source": [
    "def image(rho=[0.8, 0.9, 1.00001, 1.1, 1.2, 1.3, 1.4, 1.5],\\\n",
    "          gamma = [8.0],\\\n",
    "          Delta = [100, 500, 1000],\\\n",
    "          figure = ['overview','overview level','investment over capital','distortion','value function','R density']):\n",
    "\n",
    "    print('rho:', rho, ', gamma:', gamma)\n",
    "\n",
    "    Figure_Dir = './figure/TwoCapital_julia_rhoeq_75_1754_' + str(Delta) + '_frac_0.0' +'/gamma_{}_rho_{}'.format(gamma,rho)\n",
    "\n",
    "    if figure == 'overview':\n",
    "        Figure_Dir = Figure_Dir + '/3dw.png'\n",
    "    elif figure == 'overview level':\n",
    "        Figure_Dir = Figure_Dir + '/3d.png'\n",
    "    elif figure == 'investment over capital':\n",
    "        Figure_Dir = Figure_Dir + '/d.png'\n",
    "    elif figure == 'distortion':\n",
    "        Figure_Dir = Figure_Dir + '/h.png'\n",
    "    elif figure == 'value function':\n",
    "        Figure_Dir = Figure_Dir + '/v.png'\n",
    "    elif figure == 'R density':\n",
    "        Figure_Dir = Figure_Dir + '/gR.png'\n",
    "    userimage = Image.open(Figure_Dir)\n",
    "    display(userimage)\n",
    "    \n",
    "interactive_plot1 = interactive(image)\n",
    "interactive_plot3 = interactive(image)\n",
    "\n",
    "items = [interactive_plot1,interactive_plot3]\n",
    "box = Box(children=items)\n",
    "\n",
    "box"
   ]
  },
  {
   "cell_type": "code",
   "execution_count": null,
   "metadata": {},
   "outputs": [],
   "source": []
  }
 ],
 "metadata": {
  "interpreter": {
   "hash": "1c67a9c81f4b1f676ee52b818d3e176be5c9dd44f82a35d6054954eb94c37bc5"
  },
  "kernelspec": {
   "display_name": "Python 3.9.12 ('base')",
   "language": "python",
   "name": "python3"
  },
  "language_info": {
   "codemirror_mode": {
    "name": "ipython",
    "version": 3
   },
   "file_extension": ".py",
   "mimetype": "text/x-python",
   "name": "python",
   "nbconvert_exporter": "python",
   "pygments_lexer": "ipython3",
   "version": "3.9.12"
  },
  "orig_nbformat": 4
 },
 "nbformat": 4,
 "nbformat_minor": 2
}
